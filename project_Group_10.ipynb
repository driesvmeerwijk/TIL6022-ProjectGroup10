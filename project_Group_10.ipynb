{
 "cells": [
  {
   "cell_type": "markdown",
   "metadata": {},
   "source": [
    "# Project Group 10 \n",
    "\n",
    "Members: \n",
    "\n",
    "Maarten Wijn - 4870042\n",
    "\n",
    "Jelmer Brouwer - 5040876\n",
    "\n",
    "Sander Boer - 4979036\n",
    "\n",
    "Daniël Dekker - 4543599\n",
    "\n",
    "Dries van Meerwijk - 5922992\n"
   ]
  },
  {
   "cell_type": "markdown",
   "metadata": {},
   "source": [
    "# Research Objective\n",
    "\n",
    "Main objective:\n",
    "\n",
    "What effect did Covid-19 have on the usage of public transport in the Netherlands for different groups?\n",
    "\n",
    "Sub-objectives:\n",
    "\n",
    "What effect did Covid-19 have on the usage of public transport in the Netherlands for different gender groups?\n",
    "\n",
    "What effect did Covid-19 have on the usage of public transport in the Netherlands for different income groups?\n",
    "\n",
    "What effect did Covid-19 have on the usage of public transport in the Netherlands for different age groups?"
   ]
  },
  {
   "cell_type": "markdown",
   "metadata": {},
   "source": [
    "# Contribution Statement\n",
    "\n",
    "*Be specific. Some of the tasks can be coding (expect everyone to do this), background research, conceptualisation, visualisation, data analysis, data modelling*"
   ]
  },
  {
   "cell_type": "markdown",
   "metadata": {},
   "source": [
    "**Sander Boer**\n",
    "\n",
    "    * Background research\n",
    "\n",
    "    * Data processing, analysis and visualisation for subquestion 1\n",
    "\n",
    "    * Writing report for subquestion 1\n",
    "\n",
    "**Author 2**:\n",
    "\n",
    "**Author 3**:"
   ]
  },
  {
   "cell_type": "markdown",
   "metadata": {},
   "source": [
    "# Data Used"
   ]
  },
  {
   "cell_type": "markdown",
   "metadata": {},
   "source": [
    "CBS - https://opendata.cbs.nl/statline/#/CBS/en/dataset/84707ENG/table?ts=1697620032230"
   ]
  },
  {
   "cell_type": "markdown",
   "metadata": {},
   "source": [
    "# Data Pipeline"
   ]
  },
  {
   "cell_type": "markdown",
   "metadata": {},
   "source": []
  }
 ],
 "metadata": {
  "kernelspec": {
   "display_name": "Python 3 (ipykernel)",
   "language": "python",
   "name": "python3"
  },
  "language_info": {
   "codemirror_mode": {
    "name": "ipython",
    "version": 3
   },
   "file_extension": ".py",
   "mimetype": "text/x-python",
   "name": "python",
   "nbconvert_exporter": "python",
   "pygments_lexer": "ipython3",
   "version": "3.9.13"
  },
  "vscode": {
   "interpreter": {
    "hash": "31f2aee4e71d21fbe5cf8b01ff0e069b9275f58929596ceb00d14d90e3e16cd6"
   }
  }
 },
 "nbformat": 4,
 "nbformat_minor": 2
}
