{
 "cells": [
  {
   "cell_type": "markdown",
   "metadata": {},
   "source": [
    "# Project Group 10 \n",
    "\n",
    "Members: \n",
    "\n",
    "Maarten Wijn - 4870042\n",
    "\n",
    "Jelmer Brouwer - 5040876\n",
    "\n",
    "Sander Boer - 4979036\n",
    "\n",
    "Daniël Dekker - 4543599\n",
    "\n",
    "Dries van Meerwijk - 5922992\n"
   ]
  },
  {
   "cell_type": "markdown",
   "metadata": {},
   "source": [
    "# Research Objective\n",
    By the end of 2019, the COVID-19 pandemic had spread over the globe and had a profound effect on every area of peoples' daily lives. Many steps were taken to restrict social connections and provide adequate social distance in order to stop the virus from spreading. As a result, daily travel habits have drastically altered. In order to get a deeper understanding of the reasons behind the changes in travel patterns during a worldwide crisis regarding the usage of public transport in the Netherlands, we classified individuals into different groups. These groups are based on differences in gender, income and age. As a result, we compared and analysed the travel patterns of these groups prior to and during the COVID-19 pandemic. Our goal is to obtain an overview of the effects of COVID-19 on travel behaviour based on these analyses.
    "\n",
    "Main objective:\n",
    "\n",
    "What effect did Covid-19 have on the usage of public transport in the Netherlands for different groups?\n",
    "\n",
    "Sub-objectives:\n",
    "\n",
    "What effect did Covid-19 have on the usage of public transport in the Netherlands for different gender groups?\n",
    "\n",
    "What effect did Covid-19 have on the usage of public transport in the Netherlands for different income groups?\n",
    "\n",
    "What effect did Covid-19 have on the usage of public transport in the Netherlands for different age groups?"
   ]
  },
  {
   "cell_type": "markdown",
   "metadata": {},
   "source": [
    "**Sander Boer**\n",
    "\n",
    "- Background research\n",
    "\n",
    "- Data processing, analysis and visualisation for subquestion 1\n",
    "\n",
    "- Writing report for subquestion 1\n",
    "\n",
    "**Author 2**:\n",
    "\n",
    "**Author 3**:"
   ]
  },
  {
   "cell_type": "markdown",
   "metadata": {},
   "source": [
    "# Data Used"
   ]
  },
  {
   "cell_type": "markdown",
   "metadata": {},
   "source": [
    "CBS - https://opendata.cbs.nl/statline/#/CBS/en/dataset/84707ENG/table?ts=1697620032230"
   ]
  },
  {
   "cell_type": "markdown",
   "metadata": {},
   "source": [
    "# Data Pipeline"
   ]
  },
  {
   "cell_type": "markdown",
   "metadata": {},
   "source": []
  }
 ],
 "metadata": {
  "kernelspec": {
   "display_name": "Python 3 (ipykernel)",
   "language": "python",
   "name": "python3"
  },
  "language_info": {
   "codemirror_mode": {
    "name": "ipython",
    "version": 3
   },
   "file_extension": ".py",
   "mimetype": "text/x-python",
   "name": "python",
   "nbconvert_exporter": "python",
   "pygments_lexer": "ipython3",
   "version": "3.9.13"
  },
  "vscode": {
   "interpreter": {
    "hash": "31f2aee4e71d21fbe5cf8b01ff0e069b9275f58929596ceb00d14d90e3e16cd6"
   }
  }
 },
 "nbformat": 4,
 "nbformat_minor": 2
}
